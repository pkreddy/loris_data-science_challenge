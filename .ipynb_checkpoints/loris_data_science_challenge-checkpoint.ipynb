{
 "cells": [
  {
   "cell_type": "markdown",
   "metadata": {},
   "source": [
    "# Exploring"
   ]
  },
  {
   "cell_type": "code",
   "execution_count": 180,
   "metadata": {
    "collapsed": true
   },
   "outputs": [],
   "source": [
    "# Setting up environment\n",
    "import os, pandas as pd, matplotlib.pyplot as plt"
   ]
  },
  {
   "cell_type": "code",
   "execution_count": 270,
   "metadata": {},
   "outputs": [
    {
     "name": "stdout",
     "output_type": "stream",
     "text": [
      "87170\n",
      "87170\n",
      "87170\n",
      "87170\n"
     ]
    }
   ],
   "source": [
    "dial_act = open(\"data/train/train/dialogues_act_train.txt\", 'r' , encoding = \"utf8\")\n",
    "dial_text = open(\"data/train/train/dialogues_train.txt\", 'r' , encoding = \"utf8\")\n",
    "dial_emo = open(\"data/train/train/dialogues_emotion_train.txt\", 'r' , encoding = \"utf8\")\n",
    "\n",
    "\n",
    "merged = []\n",
    "\n",
    "dial_act_read = dial_act.read().split(\" \")\n",
    "dial_act_read = dial_act_read[:-1]\n",
    "dial_act_read = list(map(int, dial_act_read))\n",
    "\n",
    "dial_emo_read = dial_emo.read().split(\" \")\n",
    "dial_emo_read = dial_emo_read[:-1]\n",
    "dial_emo_read = list(map(int,dial_emo_read))\n",
    "\n",
    "dial_text_read = dial_text.read().split(\"__eou__\")\n",
    "dial_text_read = dial_text_read[:-1]\n",
    "\n",
    "person = ['A' , 'B'] * (int(len(dial_emo_read)/2))\n",
    "\n",
    "print(len(dial_emo_read))\n",
    "print(len(dial_text_read))\n",
    "print(len(dial_act_read))\n",
    "\n",
    "merged = [person,dial_act_read, dial_emo_read, dial_text_read]\n",
    "merged = list(zip(*merged))\n",
    "merged = pd.DataFrame(merged)\n",
    "merged.columns = ['Person' , 'Act' , 'Emotion' , 'Conversation']\n",
    "print(len(merged))\n",
    "dial_act.close()\n",
    "dial_text.close()\n",
    "dial_emo.close()\n",
    "\n",
    "dial_act_read = []\n",
    "dial_emo_read = []\n",
    "dial_text_read = []"
   ]
  },
  {
   "cell_type": "code",
   "execution_count": 271,
   "metadata": {},
   "outputs": [
    {
     "data": {
      "text/html": [
       "<div>\n",
       "<style scoped>\n",
       "    .dataframe tbody tr th:only-of-type {\n",
       "        vertical-align: middle;\n",
       "    }\n",
       "\n",
       "    .dataframe tbody tr th {\n",
       "        vertical-align: top;\n",
       "    }\n",
       "\n",
       "    .dataframe thead th {\n",
       "        text-align: right;\n",
       "    }\n",
       "</style>\n",
       "<table border=\"1\" class=\"dataframe\">\n",
       "  <thead>\n",
       "    <tr style=\"text-align: right;\">\n",
       "      <th></th>\n",
       "      <th>Person</th>\n",
       "      <th>Act</th>\n",
       "      <th>Emotion</th>\n",
       "      <th>Conversation</th>\n",
       "    </tr>\n",
       "  </thead>\n",
       "  <tbody>\n",
       "    <tr>\n",
       "      <th>0</th>\n",
       "      <td>A</td>\n",
       "      <td>3</td>\n",
       "      <td>0</td>\n",
       "      <td>Say , Jim , how about going for a few beers after dinner ?</td>\n",
       "    </tr>\n",
       "    <tr>\n",
       "      <th>1</th>\n",
       "      <td>B</td>\n",
       "      <td>4</td>\n",
       "      <td>0</td>\n",
       "      <td>You know that is tempting but is really not good for our fitness .</td>\n",
       "    </tr>\n",
       "    <tr>\n",
       "      <th>2</th>\n",
       "      <td>A</td>\n",
       "      <td>2</td>\n",
       "      <td>0</td>\n",
       "      <td>What do you mean ? It will help us to relax .</td>\n",
       "    </tr>\n",
       "    <tr>\n",
       "      <th>3</th>\n",
       "      <td>B</td>\n",
       "      <td>2</td>\n",
       "      <td>0</td>\n",
       "      <td>Do you really think so ? I don't . It will just make us fat and act silly . Remember last time ?</td>\n",
       "    </tr>\n",
       "    <tr>\n",
       "      <th>4</th>\n",
       "      <td>A</td>\n",
       "      <td>2</td>\n",
       "      <td>0</td>\n",
       "      <td>I guess you are right.But what shall we do ? I don't feel like sitting at home .</td>\n",
       "    </tr>\n",
       "  </tbody>\n",
       "</table>\n",
       "</div>"
      ],
      "text/plain": [
       "  Person  Act  Emotion                                                                                        Conversation\n",
       "0      A    3        0                                         Say , Jim , how about going for a few beers after dinner ? \n",
       "1      B    4        0                                 You know that is tempting but is really not good for our fitness . \n",
       "2      A    2        0                                                      What do you mean ? It will help us to relax . \n",
       "3      B    2        0   Do you really think so ? I don't . It will just make us fat and act silly . Remember last time ? \n",
       "4      A    2        0                   I guess you are right.But what shall we do ? I don't feel like sitting at home . "
      ]
     },
     "execution_count": 271,
     "metadata": {},
     "output_type": "execute_result"
    }
   ],
   "source": [
    "merged.head()"
   ]
  },
  {
   "cell_type": "code",
   "execution_count": 280,
   "metadata": {},
   "outputs": [],
   "source": [
    "#Shifting conversation from happiness to sadness\n",
    "Conv_A = []\n",
    "for i in range(1,len(merged)):\n",
    "    if(merged['Person'][i]=='A' and merged['Emotion'][i]==5 and merged['Emotion'][i-2]==4):\n",
    "        #print(i,merged['Emotion'][i])\n",
    "        Conv_A.append(i)\n",
    "    #print(merged[i][1])"
   ]
  },
  {
   "cell_type": "code",
   "execution_count": 281,
   "metadata": {},
   "outputs": [
    {
     "data": {
      "text/plain": [
       "40"
      ]
     },
     "execution_count": 281,
     "metadata": {},
     "output_type": "execute_result"
    }
   ],
   "source": [
    "#Total No Of Times Immediate change of emotions from Happiness to Angry\n",
    "len(Conv_A)"
   ]
  },
  {
   "cell_type": "code",
   "execution_count": 282,
   "metadata": {},
   "outputs": [
    {
     "name": "stdout",
     "output_type": "stream",
     "text": [
      "    Person  Act  Emotion                                                                                         Conversation\n",
      "454      A    1        4                                                                                             Great . \n",
      "455      B    2        0                                                                                 \\nWhat upsets you ? \n",
      "456      A    1        5   My parents called . As usual , they reminded me again that I should have a plan to marry by my ...\n",
      "457      B    2        0                                                         It is not your mother finding one for you ? \n",
      "458      A    1        0                                          I will find one myself , of course . I ’ m a modern girl . \n",
      "     Person  Act  Emotion                                                                                         Conversation\n",
      "1590      A    1        4   Well , I don ’ t mean to boast but all the designs are done by myself and some colleagues are a...\n",
      "1591      B    3        0                                             \\nSteven , would you like to go dance with us tonight ? \n",
      "1592      A    4        5                                                         John , I am just not in the mood for this . \n",
      "1593      B    2        0                                                               You look so upset . What's going on ? \n",
      "1594      A    1        5                                                            I lost the table tennis game yesterday . \n",
      "     Person  Act  Emotion                                                                                         Conversation\n",
      "9314      A    1        4   Thank you , Bob ! This past week has been the beginning of Armageddon for many , a series of un...\n",
      "9315      B    2        0                                                    Not a great week for the world ! Any good news ? \n",
      "9316      A    1        5   I ’ m afraid not , Bob . One of the major volcanoes in Mexico has erupted , causing major flood...\n",
      "9317      B    1        4                                                                       \\nHappy Anniversary , honey . \n",
      "9318      A    1        4                                                                       I thought you had forgotten . \n"
     ]
    }
   ],
   "source": [
    "for i in range(3):\n",
    "    print(merged[Conv_A[i]-2:Conv_A[i]+3])"
   ]
  },
  {
   "cell_type": "code",
   "execution_count": 284,
   "metadata": {},
   "outputs": [
    {
     "ename": "NameError",
     "evalue": "name 'x' is not defined",
     "output_type": "error",
     "traceback": [
      "\u001b[1;31m---------------------------------------------------------------------------\u001b[0m",
      "\u001b[1;31mNameError\u001b[0m                                 Traceback (most recent call last)",
      "\u001b[1;32m<ipython-input-284-604f9d9a8a83>\u001b[0m in \u001b[0;36m<module>\u001b[1;34m()\u001b[0m\n\u001b[0;32m     15\u001b[0m \u001b[1;33m\u001b[0m\u001b[0m\n\u001b[0;32m     16\u001b[0m \u001b[0mplt\u001b[0m\u001b[1;33m.\u001b[0m\u001b[0msubplot\u001b[0m\u001b[1;33m(\u001b[0m\u001b[1;36m2\u001b[0m\u001b[1;33m,\u001b[0m \u001b[1;36m2\u001b[0m\u001b[1;33m,\u001b[0m \u001b[1;36m1\u001b[0m\u001b[1;33m)\u001b[0m\u001b[1;33m\u001b[0m\u001b[0m\n\u001b[1;32m---> 17\u001b[1;33m \u001b[0mplt\u001b[0m\u001b[1;33m.\u001b[0m\u001b[0mplot\u001b[0m\u001b[1;33m(\u001b[0m\u001b[0mx\u001b[0m\u001b[1;33m,\u001b[0m \u001b[0my\u001b[0m\u001b[1;33m)\u001b[0m\u001b[1;33m\u001b[0m\u001b[0m\n\u001b[0m\u001b[0;32m     18\u001b[0m \u001b[1;33m\u001b[0m\u001b[0m\n\u001b[0;32m     19\u001b[0m \u001b[0mplt\u001b[0m\u001b[1;33m.\u001b[0m\u001b[0mshow\u001b[0m\u001b[1;33m(\u001b[0m\u001b[1;33m)\u001b[0m\u001b[1;33m\u001b[0m\u001b[0m\n",
      "\u001b[1;31mNameError\u001b[0m: name 'x' is not defined"
     ]
    }
   ],
   "source": [
    "a = int(Conv_A[0]/2)\n",
    "\n",
    "def plot_emotion_A():\n",
    "    for i in range(1,10)\n",
    "        fig = plt.figure()\n",
    "        b = merged['Emotion'][(merged.Person == 'A')][a - 4:a+5]\n",
    "        c = merged['Emotion'][(merged.Person == 'B')][a - 4:a+5]\n",
    "\n",
    "        plt.plot(list(b), marker='o',label = 'A')\n",
    "        plt.plot(list(c), marker='o',label = 'B')\n",
    "        #plt.plot(merged['Emotion'][(merged.Person == 'B')], '-')\n",
    "        plt.axis([0,len(b) - 1, 0 , 6])\n",
    "        plt.xlabel('Time')\n",
    "        plt.ylabel('Emotion')\n",
    "        plt.yticks(range(7), ['no emotion', 'anger', 'disgust', 'fear', 'happiness', 'sadness','surprise'])\n",
    "        plt.title('Emotion of Person A shift from happy to sad and emotion of Person B')\n",
    "\n",
    "        plt.subplot(2, 2, 1)\n",
    "        plt.plot(x, y)\n",
    "\n",
    "        plt.show()\n",
    "        print(merged[Conv_A[0] - 4:Conv_A[0]+5])\n",
    "        print(\"-------------------------------\")"
   ]
  },
  {
   "cell_type": "code",
   "execution_count": 239,
   "metadata": {},
   "outputs": [
    {
     "name": "stdout",
     "output_type": "stream",
     "text": [
      "     Person  Act  Emotion                                                               Conversation\n",
      "3569      B    1        4                                          Sound like everything is great . \n",
      "3571      B    1        5                                                    I am not in the mood . \n",
      "3573      B    1        0   I was told my girlfriend was speaking ill of me . It's a real letdown . \n",
      "3575      B    1        5                                 But she did and it made me disappointed . \n",
      "3577      B    1        0                                               But she means a lot to me . \n",
      "3579      B    4        0                                             Oh , I just can't forget it . \n",
      "     Person  Act  Emotion                                                                                         Conversation\n",
      "3568      A    1        4   In the evening , we just sit and talk over dinner . But on the weekend , we try to go out to th...\n",
      "3570      A    2        0                                                           \\nDavid , why don't you clean your room ? \n",
      "3572      A    2        0                                                                       Why are you feeling depress ? \n",
      "3574      A    1        0                                                           I don't think she would do such a thing . \n",
      "3576      A    1        0                                                    Oh , cheer up ! A girlfriend is not everything . \n",
      "3578      A    3        0                                                                          Then forgive her mistake . \n"
     ]
    }
   ],
   "source": [
    "a = int(s[1]/2)\n",
    "print(merged[(merged.Person == 'B')][a - 1:a+5])\n",
    "print(merged[(merged.Person == 'A')][a - 1:a+5])"
   ]
  },
  {
   "cell_type": "code",
   "execution_count": 154,
   "metadata": {},
   "outputs": [
    {
     "name": "stdout",
     "output_type": "stream",
     "text": [
      "491 1\n",
      "2089 1\n",
      "2776 1\n",
      "8034 1\n",
      "8925 1\n",
      "9321 1\n",
      "9491 1\n",
      "9914 1\n",
      "10627 1\n",
      "11029 1\n",
      "12874 1\n",
      "14589 1\n",
      "16591 1\n",
      "16703 1\n",
      "19084 1\n",
      "21163 1\n",
      "24769 1\n",
      "26181 1\n",
      "28683 1\n",
      "28941 1\n",
      "29126 1\n",
      "30780 1\n",
      "32112 1\n",
      "32529 1\n",
      "34579 1\n",
      "34872 1\n",
      "35215 1\n",
      "35869 1\n",
      "40957 1\n",
      "41075 1\n",
      "43654 1\n",
      "43719 1\n",
      "46533 1\n",
      "51006 1\n",
      "53828 1\n",
      "57274 1\n",
      "58158 1\n",
      "61061 1\n",
      "61166 1\n",
      "61768 1\n",
      "61910 1\n",
      "62753 1\n",
      "63938 1\n",
      "64825 1\n",
      "66651 1\n",
      "70575 1\n",
      "81237 1\n",
      "83418 1\n",
      "86286 1\n"
     ]
    }
   ],
   "source": [
    "#Shifting conversation from happiness to sadness\n",
    "for i in range(1,len(merged)):\n",
    "    if(merged['Emotion'][i]==1 and merged['Emotion'][i-1]==4):\n",
    "        print(i,merged['Emotion'][i])\n",
    "    #print(merged[i][1])"
   ]
  },
  {
   "cell_type": "code",
   "execution_count": 117,
   "metadata": {},
   "outputs": [
    {
     "data": {
      "text/plain": [
       "1    0\n",
       "2    0\n",
       "Name: Emotion, dtype: int64"
      ]
     },
     "execution_count": 117,
     "metadata": {},
     "output_type": "execute_result"
    }
   ],
   "source": [
    "merged['Emotion'][1:3]"
   ]
  },
  {
   "cell_type": "code",
   "execution_count": 152,
   "metadata": {},
   "outputs": [
    {
     "data": {
      "text/html": [
       "<div>\n",
       "<style scoped>\n",
       "    .dataframe tbody tr th:only-of-type {\n",
       "        vertical-align: middle;\n",
       "    }\n",
       "\n",
       "    .dataframe tbody tr th {\n",
       "        vertical-align: top;\n",
       "    }\n",
       "\n",
       "    .dataframe thead th {\n",
       "        text-align: right;\n",
       "    }\n",
       "</style>\n",
       "<table border=\"1\" class=\"dataframe\">\n",
       "  <thead>\n",
       "    <tr style=\"text-align: right;\">\n",
       "      <th></th>\n",
       "      <th>Person</th>\n",
       "      <th>Act</th>\n",
       "      <th>Emotion</th>\n",
       "      <th>Conversation</th>\n",
       "    </tr>\n",
       "  </thead>\n",
       "  <tbody>\n",
       "    <tr>\n",
       "      <th>4210</th>\n",
       "      <td>A</td>\n",
       "      <td>1</td>\n",
       "      <td>0</td>\n",
       "      <td>\\nLisa wins the first prize in the English speech contest of her college .</td>\n",
       "    </tr>\n",
       "    <tr>\n",
       "      <th>4211</th>\n",
       "      <td>B</td>\n",
       "      <td>1</td>\n",
       "      <td>4</td>\n",
       "      <td>Really ? That's really wonderful . I'm so happy for her .</td>\n",
       "    </tr>\n",
       "    <tr>\n",
       "      <th>4212</th>\n",
       "      <td>A</td>\n",
       "      <td>1</td>\n",
       "      <td>5</td>\n",
       "      <td>But I always feel disappointed . I have many problems with English learning .</td>\n",
       "    </tr>\n",
       "    <tr>\n",
       "      <th>4213</th>\n",
       "      <td>B</td>\n",
       "      <td>1</td>\n",
       "      <td>0</td>\n",
       "      <td>Honey , cheer up .</td>\n",
       "    </tr>\n",
       "  </tbody>\n",
       "</table>\n",
       "</div>"
      ],
      "text/plain": [
       "     Person  Act  Emotion                                                                     Conversation\n",
       "4210      A    1        0      \\nLisa wins the first prize in the English speech contest of her college . \n",
       "4211      B    1        4                       Really ? That's really wonderful . I'm so happy for her . \n",
       "4212      A    1        5   But I always feel disappointed . I have many problems with English learning . \n",
       "4213      B    1        0                                                              Honey , cheer up . "
      ]
     },
     "execution_count": 152,
     "metadata": {},
     "output_type": "execute_result"
    }
   ],
   "source": [
    "pd.set_option('max_colwidth', 100)\n",
    "merged[4210:4214]"
   ]
  },
  {
   "cell_type": "code",
   "execution_count": 128,
   "metadata": {},
   "outputs": [
    {
     "data": {
      "text/plain": [
       "range(1, 100)"
      ]
     },
     "execution_count": 128,
     "metadata": {},
     "output_type": "execute_result"
    }
   ],
   "source": [
    "range(1,100)"
   ]
  },
  {
   "cell_type": "code",
   "execution_count": 56,
   "metadata": {},
   "outputs": [
    {
     "ename": "ValueError",
     "evalue": "invalid literal for int() with base 10: ''",
     "output_type": "error",
     "traceback": [
      "\u001b[1;31m---------------------------------------------------------------------------\u001b[0m",
      "\u001b[1;31mValueError\u001b[0m                                Traceback (most recent call last)",
      "\u001b[1;32m<ipython-input-56-6158f2d59967>\u001b[0m in \u001b[0;36m<module>\u001b[1;34m()\u001b[0m\n\u001b[0;32m      1\u001b[0m \u001b[0ma\u001b[0m \u001b[1;33m=\u001b[0m \u001b[1;33m[\u001b[0m\u001b[1;33m]\u001b[0m\u001b[1;33m\u001b[0m\u001b[0m\n\u001b[0;32m      2\u001b[0m \u001b[1;32mfor\u001b[0m \u001b[0mi\u001b[0m \u001b[1;32min\u001b[0m \u001b[0mrange\u001b[0m\u001b[1;33m(\u001b[0m\u001b[0mlen\u001b[0m\u001b[1;33m(\u001b[0m\u001b[0mdial_act_read\u001b[0m\u001b[1;33m)\u001b[0m\u001b[1;33m)\u001b[0m\u001b[1;33m:\u001b[0m\u001b[1;33m\u001b[0m\u001b[0m\n\u001b[1;32m----> 3\u001b[1;33m     \u001b[0ma\u001b[0m\u001b[1;33m.\u001b[0m\u001b[0mappend\u001b[0m\u001b[1;33m(\u001b[0m\u001b[0mint\u001b[0m\u001b[1;33m(\u001b[0m\u001b[0mdial_act_read\u001b[0m\u001b[1;33m[\u001b[0m\u001b[0mi\u001b[0m\u001b[1;33m]\u001b[0m\u001b[1;33m)\u001b[0m\u001b[1;33m)\u001b[0m\u001b[1;33m\u001b[0m\u001b[0m\n\u001b[0m",
      "\u001b[1;31mValueError\u001b[0m: invalid literal for int() with base 10: ''"
     ]
    }
   ],
   "source": [
    "a = []\n",
    "for i in range(len(dial_act_read)):\n",
    "    a.append(int(dial_act_read[i]))"
   ]
  },
  {
   "cell_type": "code",
   "execution_count": 63,
   "metadata": {},
   "outputs": [
    {
     "data": {
      "text/plain": [
       "[\" Okay . I'll just be a minute . \", '\\n']"
      ]
     },
     "execution_count": 63,
     "metadata": {},
     "output_type": "execute_result"
    }
   ],
   "source": []
  }
 ],
 "metadata": {
  "kernelspec": {
   "display_name": "python3.5",
   "language": "python",
   "name": "python3.5"
  },
  "language_info": {
   "codemirror_mode": {
    "name": "ipython",
    "version": 3
   },
   "file_extension": ".py",
   "mimetype": "text/x-python",
   "name": "python",
   "nbconvert_exporter": "python",
   "pygments_lexer": "ipython3",
   "version": "3.5.2"
  }
 },
 "nbformat": 4,
 "nbformat_minor": 2
}
